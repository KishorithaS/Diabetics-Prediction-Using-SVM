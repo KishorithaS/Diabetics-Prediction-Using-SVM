{
 "cells": [
  {
   "cell_type": "markdown",
   "id": "c9e1ba1d",
   "metadata": {},
   "source": [
    "# PART A - APPLICATION AREA REVIEW "
   ]
  },
  {
   "cell_type": "markdown",
   "id": "e0e9293c",
   "metadata": {},
   "source": [
    "## Literature Review "
   ]
  },
  {
   "cell_type": "markdown",
   "id": "e6bb2c7f",
   "metadata": {},
   "source": [
    "A major concern for medical professionals, researchers, and the patient community is diabetes outcomes, and \n",
    "data mining and machine learning have emerged as increasingly useful tools in this area. With a focus on the \n",
    "techniques and models employed, the implications of the findings, and the difficulties faced in this field of study, \n",
    "this literature review will provide an overview of the state of the art in diabetes predictions using data mining and \n",
    "machine learning.\n",
    "\n",
    "In recent years, there has been a lot of research on the accuracy of machine learning (ML) and data mining (DM) predict the outcomes of diabetes. According to TN Joshi and PPM Chawan, who published a research on this subject in 2018 in the International Journal of Engineering Research and Applications, claim that the machine learning and data mining have shown potential in forecasting diabetes outcomes. These authors discovered that it is possible to distinguish between patients with and without diabetes with accuracy using ML and DM approaches. They also discovered that diabetes-related problems like retinopathy, nephropathy, and neuropathy may be effectively predicted using ML and DM approaches.\n",
    "\n",
    "Due to their capacity to identify intricate patterns in big data sets, data mining and machine learning have grown in popularity as techniques for forecasting diabetes outcomes. The efficacy of these methods for forecasting diabetes outcomes was evaluated in a study by Kavakiotis et al. (2017). The accuracy of several data mining and machine learning algorithms, including logistic regression, decision tree induction, and support vector machines, was investigated by the authors. Some studies reported prediction accuracy rates of up to 80%, demonstrating the effectiveness of these strategies in detecting high-risk individuals. Decision tree analysis was used in one study, \"Predicting diabetes using decision tree analysis,\" by R. Mehta et al. (2007) to forecast diabetes in a population of Pima Indians. According to the study, the decision tree model could correctly predict diabetes in 75% of instances. Another study employed a neural network to predict diabetes in a population of pregnant women and showed that the model was able to predict diabetes with an accuracy of 78%. This study was titled \"Development and evaluation of a neural network model for diabetes prediction in pregnant women\".\n",
    "\n",
    "Recent studies have shown that AI techniques can be effective in predicting the risk of diabetes in patients. The paper by N Nai-Arun and R Moungmai (2015) compares and evaluates the use of artificial intelligence techniques for diabetes prediction. The authors analyzed the performance of several existing artificial intelligence techniques and assessed their efficacy in predicting diabetes. They found that the Support Vector Machine (SVM) and Neural Network (NN) methods were the most accurate for predicting diabetes. The SVM method had the highest accuracy of 81.6%, while the NN method had an accuracy of 78.7%. T Furthermore, the authors concluded that the SVM and NN methods could be used as reliable models for predicting diabetes. This study provides valuable insight into the potential of artificial intelligence techniques in the medical field and demonstrates their effectiveness in the diagnosis of diabetes.\n",
    "\n",
    "They found that forecasting diabetes outcomes using data mining and machine learning algorithms yielded positive results. Additionally, given their enormous potential for predicting diabetes outcomes, they came to the conclusion that additional study should be done on data mining and machine learning. Because they are effective tools for predicting diabetes outcomes, data mining and machine learning should be used more in clinical practice such as diabetes prediction models should be used in conjunction with other diagnostic techniques and clinical judgment because they are not diagnostic tools and are intended to identify high-risk individuals for early intervention. Furthermore, compared to conventional approaches, these algorithms have the potential to increase prediction accuracy. Healthcare workers may also easily spot patterns and trends in huge datasets by utilizing data mining, and they can use these insights to improve predictive models. Finally, the construction of prediction models for diabetes can be facilitated by the use of data mining and machine learning, which enables medical professionals to take preventative actions to lower the risk of the disease in individuals. \n",
    "\n",
    "In summary, data mining and machine learning have been successfully applied to the field of diabetes prediction in the future. These techniques can be used to make precise predictions, according to numerous studies. Additionally, these techniques can be used to determine risk factors for a specific group of diabetes patients and to assess how well diabetes prediction models perform. As a result, data mining and machine learning can help us gain a better understanding of the cause-and-effect relationships relating to the prediction of diabetes, allowing for more precise and customized treatments and ultimately improving patient health outcomes.\n",
    "\n",
    "### References\n",
    "\n",
    "1. Pramila M. Chawan.(2018).\"Diabetes prediction using machine learning techniques\". ISSN: 2248-9622, Vol. 8, Issue 1.\n",
    "https://www.academia.edu/36963831/Diabetes_Prediction_Using_Machine_Learning_Techniques.\n",
    "2. I Kavakiotis., O Tsave., A Salifoglou.\"Machine learning and data mining methods in diabetes research.\"https://www.sciencedirect.com/science/article/pii/S2001037016300733.\n",
    "3. I Kavakiotis., O Tsave., A Salifoglou.\"Machine learning and data mining methods in diabetes research.\"https://www.sciencedirect.com/science/article/pii/S2001037016300733.\n",
    "4. N Nai-Arun.\"Comparison of classifiers for the risk of diabetes prediction.\"https://www.sciencedirect.com/science/article/pii/S1877050915031786.\n",
    "5. Mehta, R., Shah, A., & Patel, N. (2007). Predicting diabetes using decision tree analysis. Journal of diabetes science and technology, 1(1), 114-119.\n",
    "6. Mukherjee, K., Banerjee, R., & Pal, S. (2010). Development and evaluation of a neural network model for diabetes prediction in pregnant women.\n",
    "7. N Nai-Arun.\"Comparison of classifiers for the risk of diabetes prediction.\"https://www.sciencedirect.com/science/article/pii/S1877050915031786![image-9.png](attachment:image-9.png)"
   ]
  },
  {
   "cell_type": "markdown",
   "id": "3d637c51",
   "metadata": {},
   "source": [
    "# PART B - COMPARE AND EVALUATE AI TECHNIQUES\n",
    "\n",
    "\n",
    "## GOAL \n",
    "\n",
    "Diabetes is a long-term (chronic) illness that affects how your body converts food into energy.The goal os this system is using data mining and machine learning, a diabetes prediction system seeks to precisely identify those who are at risk of getting diabetes. Large-scale data analysis and the use of sophisticated algorithms to find patterns and links in the data are used to achieve this. The system extracts important information from the data and uses data mining techniques to produce predictions about a person's likelihood of acquiring diabetes. The approach attempts to enhance diabetes control and prevent complications via early intervention by identifying high-risk individuals. The method can also identify diabetes risk factors, which can aid in the development of preventative measures. This system's goal is to provide a dependable, effective, and reasonably priced method for detecting people who are at risk of developing diabetes and, ultimately, to enhance the quality of life for those who already have the disease.\n",
    "\n",
    "The crucial subject of AI techniques for diabetes prediction will be covered below. It will analyze and assess the efficacy of three distinct AI algorithms in predicting diabetes and discuss the merits and drawbacks of each.\n",
    "\n",
    "#### The most effective data mining techniques used to predict Diabetes are \n",
    "#### 1. Decision Trees\n",
    "#### 2. Artificial Neural Networks ( ANN )\n",
    "#### 3. Support vector Machines ( SVM )\n",
    "\n",
    "\n",
    "## Decision Trees\n",
    "\n",
    "A decision tree is a type of algorithm used in data mining and machine learning for classification and prediction. It is a model of decisions in the form of a tree that depicts potential outcomes, such as utility, resource costs, and chance event outcomes. It uses a greedy approach for recursively partitioning the dataset into subsets based on the values of the input features; the best split is chosen at that particular step, rather than looking ahead and picking a split that will lead to a better tree in some future step. James et al. (2013).The algorithm chooses the feature that best divides the dataset into subsets at each internal node of the tree.\n",
    "\n",
    "When used in diabetic prediction,decision tree analysis is used to pinpoint the most significant diabetes risk factors\n",
    "The algorithm analyzes the data and divides it into groups according to the risk factor values. The risk factors that are most crucial for predicting diabetes are then identified from the subsets.The decision tree can handle vast amounts of data and intricate interactions between factors, making it an effective tool for diabetes prediction. It can also manage categorical variables and missing data, which are both present in many medical datasets. It may be shown graphically and is simple enough for a layperson to understand. It also reflects the standards used by doctors to diagnose illnesses.\n",
    "\n",
    "#### Advantages \n",
    "\n",
    "1. Intuitive and easy to understand: Decision trees are ‘white box’, a tree-like plot models, which makes them easy to interpret. They also shed light on the elements that affect the result most significantly.\n",
    "\n",
    "2. Handling missing data: Decision trees are a suitable option for diabetes prediction models because they can handle missing data, which is prevalent in medical datasets.\n",
    "\n",
    "3. Handling categorical variables: Decision trees are a suitable option for diabetes prediction models because they can handle categorical variables, which are frequently seen in medical datasets.\n",
    "\n",
    "4. Handling large datasets: They are helpful for diabetic prediction models because they can handle vast datasets and intricate interactions between factors.\n",
    "\n",
    "5. Robust to outliers: These are comparatively resilient to outliers and are less likely to be impacted by the existence of irrelevant variables.\n",
    "\n",
    "#### Disadvantages \n",
    "\n",
    "1. Prone to overfitting: are prone to overfitting, which occurs when the data is not correctly pruned. In this case, the tree will match the training data very well but will not generalize well to new data.\n",
    "\n",
    "2. Biased toward variables with many outcomes: These can be biased in favor of variables with many outcomes since they divide the data according to the outcomes that are most frequently observed.\n",
    "\n",
    "3. Simplistic representation: Compared to other algorithms, decision tree models provide a simplified representation of the underlying data, which can result in less accurate predictions.\n",
    "\n",
    "4. Requires fine-tuning: To get the best performance out of decision trees, the model's parameters must be adjusted precisely, which is time-consuming.\n",
    "\n",
    "5. Not suitable for continuous data: Decision trees are not appropriate for continuous data since they call for the discretisation of the data, which may result in information loss.\n",
    "\n",
    "\n",
    "\n",
    "## Artificial Neural Networks ( ANN )\n",
    "\n",
    "A neural network is a type of machine learning algorithm that is inspired by the structure and function of the human brain.  It is made up of many interconnected processing nodes, known as neurons, that are arranged in layers. These NN are used for a variety of tasks, including prediction, classification, and pattern recognition. Several strategies, including backpropagation, a supervised learning algorithm, can be used to train the neural network. The weights of the connections between neurons are modified by the network using the training data. Until the network's predictions agree with the known outcomes in the training data, this process is repeated.\n",
    "\n",
    "Neural networks are used in diabetic prediction to evaluate vast volumes of data and find patterns that are related to diabetes. A dataset of patient data, including demographic information, medical history, and lab results, is used to train the neural network. The network then employs this data to forecast a person's likelihood of developing diabetes.\n",
    "Because they can handle enormous volumes of data and intricate interactions between factors, neural networks are very helpful for predicting the development of diabetes. They can also deal with categorical variables and missing data, which are both present in many medical datasets. Furthermore, neural networks are a useful tool for predicting diabetes because they can spot patterns and associations that are difficult for people to notice.\n",
    "\n",
    "\n",
    "#### Advantages \n",
    "\n",
    "1. Handling large and complex datasets: ANNs can handle large and complex datasets, which makes them useful for diabetic prediction models.\n",
    "\n",
    "2. Handling missing data: ANNs can handle missing data, which is common in medical datasets, this makes it a good choice for diabetic prediction models.\n",
    "\n",
    "3. Handling categorical variables: They are capable of handling categorical variables, which are frequently found in medical datasets, making them a strong option for diabetic prediction models.\n",
    "\n",
    "4. Non-linearity:  These can simulate intricate, non-linear interactions between variables, enhancing prediction accuracy.\n",
    "\n",
    "5. Robustness: NNs can be less impacted by the presence of irrelevant factors and are generally resistant to data noise.\n",
    "\n",
    "#### Disadvantages \n",
    "\n",
    "1. Difficulty in interpreting the model: Understanding the model can be challenging since ANNs are complex models. As a result, it can be challenging to comprehend how the network's internal dynamics affect the predictions.\n",
    "\n",
    "2. Overfitting: Inadequate regularization of the data might cause ANNs to overfit the data, which can result in subpar performance on new data. \n",
    "\n",
    "3. Time-consuming: ANN training can take a while, especially for big datasets.\n",
    "\n",
    "4. Requires a large amount of data:  ANNs need a lot of data to train properly, which might be a drawback in some situations.\n",
    "\n",
    "5. Requires fine-tuning: ANNs require fine-tuning of the model's parameters to achieve optimal performance, which can be time-consuming.\n",
    "\n",
    "\n",
    "\n",
    "## Suport Vector Machine ( SVM )\n",
    "\n",
    "Support Vector Machine (SVM) is a type of algorithm used in machine learning and data mining for classification and prediction. It is a supervised learning algorithm that can be used for both linear and non-linear classification problems. The goal of SVM is Finding a boundary, or hyperplane, that divides the data into various classes. \n",
    "\n",
    "SVM is used to categorize patients as either diabetic or non-diabetic depending on their medical data when it comes to diabetic prediction. A collection of patient information, including demographics, a medical history, and lab results, is used to train the SVM algorithm. This data is then utilized by the algorithm to identify a border, or hyperplane, that divides diabetic patients from non-diabetic patients. SVM is particularly useful for diabetic prediction because it can handle vast volumes of data and complex interactions between factors. Additionally, it can handle non-linear relationships, whichDifficult to interpret: Because SVMs are sophisticated models, it can be challenging to understand how the algorithm functions inside. As a result, it can be challenging to comprehend the variables that affect the predictions.\n",
    "\n",
    "\n",
    "#### Advantages \n",
    "\n",
    "1. Handling non-linear relationships: SVMs can take into account non-linear relationships between variables, which can increase prediction accuracy.\n",
    "\n",
    "2. Handling large datasets: SVMs are capable of handling enormous datasets, which is why diabetic prediction models can benefit from them.\n",
    "\n",
    "3. Flexibility: SVMs are more adaptable in processing various types of data because they may be utilized with a range of kernel functions.\n",
    "\n",
    "4. Robust to overfitting: SVMs are resistant to overfitting because they feature a regularization parameter that enhances generalization performance and helps to prevent overfitting.\n",
    "\n",
    "5. Efficient for high-dimensional datasets: SVMs are especially effective when dealing with high-dimensional datasets, which are typical in biomedical applications.\n",
    "\n",
    "#### Disadvantages \n",
    "\n",
    "1. Difficult to interpret: Because SVMs are sophisticated models, it can be challenging to understand how the algorithm functions inside. As a result, it can be challenging to comprehend the variables that affect the predictions.\n",
    "\n",
    "2. Requires fine-tuning: SVMs might be time-consuming to fine-tune the model's parameters in order to obtain optimal performance.\n",
    "\n",
    "3. Not suitable for datasets with a lot of noise: SVMs are sensitive to noise in the data, and might not perform well on datasets with a lot of noise.\n",
    "\n",
    "4. Not suitable for large datasets: Training SVMs can be computationally expensive for large datasets, which can be a limitation in certain situations. \n",
    "\n"
   ]
  },
  {
   "cell_type": "markdown",
   "id": "a8047bb2",
   "metadata": {},
   "source": [
    "When compared to Decision Trees and Artificial Neural Networks (ANNs), Support Vector Machines (SVMs) may be a better option for diabetes prediction. Taking into account non-linear relationships: SVMs can take into account non-linear relationships between variables, which can increase prediction accuracy. Decision trees and ANNs may not perform as well on non-linear situations because they are primarily intended for linear interactions. SVMs have a regularization parameter, which helps to prevent overfitting and improve the generalization performance, whereas Decision trees and ANNs are prone to overfitting if not properly regularized. SVMs are particularly efficient for high-dimensional and inbalanced datasets unlike the other o2 AI techniques mentioned. Moreover in terms of flexibility,  SVMs can be used with a variety of kernel functions, which can make them more flexible in handling different types of data. Decision Trees and ANNs are less flexible in terms of the types of data they can handle.\n",
    "\n",
    "The paper by N Nai-Arun and R Moungmai (2015, which compares and evaluates the use of artificial intelligence techniques for diabetes prediction. The authors found that the Support Vector Machine (SVM) and Neural Network (NN) methods were the most accurate for predicting diabetes. The SVM method had the highest accuracy of 81.6%, while the NN method had an accuracy of 78.7%. As SVM, has a higher accuracy rate compared to other AI techniques, the following Prediciton will be done using Support Vector Machine (SVM)."
   ]
  },
  {
   "cell_type": "markdown",
   "id": "25e95982",
   "metadata": {},
   "source": [
    "# PART C - IMPLEMENTATION\n",
    "\n",
    "\n",
    "## HIGH - LEVEL DIAGRAM\n",
    "\n",
    "Below is a high-level diagram describing how a Diabetes Prediction system  using SVM works."
   ]
  },
  {
   "cell_type": "code",
   "execution_count": 79,
   "id": "725f96cd",
   "metadata": {},
   "outputs": [
    {
     "data": {
      "image/png": "[encoded data removed]",
      "text/plain": [
       "<IPython.core.display.Image object>"
      ]
     },
     "execution_count": 79,
     "metadata": {},
     "output_type": "execute_result"
    }
   ],
   "source": [
    "from IPython.display import Image\n",
    "Image(filename='HighLevelDiagram.drawio.png')"
   ]
  },
  {
   "cell_type": "markdown",
   "id": "3f5c9bbe",
   "metadata": {},
   "source": [
    "## DATASET \n",
    "\n",
    "In this case, Diabetes.csv dataset has been used for the prediction which contains data of patients with diabetes and non - diabetic patients. This dataset is originally from the National Institute of Diabetes and Digestive and Kidney diseases. These instances were chosen from a bigger database under a number of restrictions. Particularly, all patients at this facility are Pima Indian women who are at least 21 years old and above. The datasets consists of several medical predictor variables and one target variable, Outcome. Predictor variables includes the number of pregnancies the patient has had, BMI, insulin level, age etc."
   ]
  },
  {
   "cell_type": "markdown",
   "id": "ff490069",
   "metadata": {},
   "source": [
    "### Installing Libraries "
   ]
  },
  {
   "cell_type": "code",
   "execution_count": 80,
   "id": "c68cbd6c",
   "metadata": {},
   "outputs": [
    {
     "data": {
      "text/html": [
       "        <script type=\"text/javascript\">\n",
       "        window.PlotlyConfig = {MathJaxConfig: 'local'};\n",
       "        if (window.MathJax && window.MathJax.Hub && window.MathJax.Hub.Config) {window.MathJax.Hub.Config({SVG: {font: \"STIX-Web\"}});}\n",
       "        if (typeof require !== 'undefined') {\n",
       "        require.undef(\"plotly\");\n",
       "        requirejs.config({\n",
       "            paths: {\n",
       "                'plotly': ['https://cdn.plot.ly/plotly-2.12.1.min']\n",
       "            }\n",
       "        });\n",
       "        require(['plotly'], function(Plotly) {\n",
       "            window._Plotly = Plotly;\n",
       "        });\n",
       "        }\n",
       "        </script>\n",
       "        "
      ]
     },
     "metadata": {},
     "output_type": "display_data"
    }
   ],
   "source": [
    "# Importing Libraries \n",
    "\n",
    "import numpy as np\n",
    "import pandas as pd\n",
    "import seaborn as sns\n",
    "import plotly.graph_objs as go      \n",
    "from sklearn.preprocessing import StandardScaler\n",
    "from sklearn.model_selection import train_test_split \n",
    "from sklearn import svm \n",
    "from sklearn.metrics import accuracy_score\n",
    "import plotly.offline as py \n",
    "py.init_notebook_mode(connected=True)     \n",
    "import plotly.tools as tls \n",
    "import matplotlib.pyplot as plt\n",
    "import warnings\n",
    "warnings.simplefilter(action = \"ignore\") "
   ]
  },
  {
   "cell_type": "markdown",
   "id": "162a6370",
   "metadata": {},
   "source": [
    "### Importing Data"
   ]
  },
  {
   "cell_type": "code",
   "execution_count": 81,
   "id": "082657fa",
   "metadata": {},
   "outputs": [
    {
     "data": {
      "text/html": [
       "<div>\n",
       "<style scoped>\n",
       "    .dataframe tbody tr th:only-of-type {\n",
       "        vertical-align: middle;\n",
       "    }\n",
       "\n",
       "    .dataframe tbody tr th {\n",
       "        vertical-align: top;\n",
       "    }\n",
       "\n",
       "    .dataframe thead th {\n",
       "        text-align: right;\n",
       "    }\n",
       "</style>\n",
       "<table border=\"1\" class=\"dataframe\">\n",
       "  <thead>\n",
       "    <tr style=\"text-align: right;\">\n",
       "      <th></th>\n",
       "      <th>Pregnancies</th>\n",
       "      <th>Glucose</th>\n",
       "      <th>BloodPressure</th>\n",
       "      <th>SkinThickness</th>\n",
       "      <th>Insulin</th>\n",
       "      <th>BMI</th>\n",
       "      <th>DiabetesPedigreeFunction</th>\n",
       "      <th>Age</th>\n",
       "      <th>Outcome</th>\n",
       "    </tr>\n",
       "  </thead>\n",
       "  <tbody>\n",
       "    <tr>\n",
       "      <th>0</th>\n",
       "      <td>6</td>\n",
       "      <td>148</td>\n",
       "      <td>72</td>\n",
       "      <td>35</td>\n",
       "      <td>0</td>\n",
       "      <td>33.6</td>\n",
       "      <td>0.627</td>\n",
       "      <td>50</td>\n",
       "      <td>1</td>\n",
       "    </tr>\n",
       "    <tr>\n",
       "      <th>1</th>\n",
       "      <td>1</td>\n",
       "      <td>85</td>\n",
       "      <td>66</td>\n",
       "      <td>29</td>\n",
       "      <td>0</td>\n",
       "      <td>26.6</td>\n",
       "      <td>0.351</td>\n",
       "      <td>31</td>\n",
       "      <td>0</td>\n",
       "    </tr>\n",
       "    <tr>\n",
       "      <th>2</th>\n",
       "      <td>8</td>\n",
       "      <td>183</td>\n",
       "      <td>64</td>\n",
       "      <td>0</td>\n",
       "      <td>0</td>\n",
       "      <td>23.3</td>\n",
       "      <td>0.672</td>\n",
       "      <td>32</td>\n",
       "      <td>1</td>\n",
       "    </tr>\n",
       "    <tr>\n",
       "      <th>3</th>\n",
       "      <td>1</td>\n",
       "      <td>89</td>\n",
       "      <td>66</td>\n",
       "      <td>23</td>\n",
       "      <td>94</td>\n",
       "      <td>28.1</td>\n",
       "      <td>0.167</td>\n",
       "      <td>21</td>\n",
       "      <td>0</td>\n",
       "    </tr>\n",
       "    <tr>\n",
       "      <th>4</th>\n",
       "      <td>0</td>\n",
       "      <td>137</td>\n",
       "      <td>40</td>\n",
       "      <td>35</td>\n",
       "      <td>168</td>\n",
       "      <td>43.1</td>\n",
       "      <td>2.288</td>\n",
       "      <td>33</td>\n",
       "      <td>1</td>\n",
       "    </tr>\n",
       "  </tbody>\n",
       "</table>\n",
       "</div>"
      ],
      "text/plain": [
       "   Pregnancies  Glucose  BloodPressure  SkinThickness  Insulin   BMI  \\\n",
       "0            6      148             72             35        0  33.6   \n",
       "1            1       85             66             29        0  26.6   \n",
       "2            8      183             64              0        0  23.3   \n",
       "3            1       89             66             23       94  28.1   \n",
       "4            0      137             40             35      168  43.1   \n",
       "\n",
       "   DiabetesPedigreeFunction  Age  Outcome  \n",
       "0                     0.627   50        1  \n",
       "1                     0.351   31        0  \n",
       "2                     0.672   32        1  \n",
       "3                     0.167   21        0  \n",
       "4                     2.288   33        1  "
      ]
     },
     "execution_count": 81,
     "metadata": {},
     "output_type": "execute_result"
    }
   ],
   "source": [
    "# Loading the diabetess dataset into Pandas Dataframe\n",
    "diabetes_data = pd.read_csv(\"diabetes.csv\")\n",
    "\n",
    "# Printing the first 05 rows of the dataset\n",
    "diabetes_data.head()"
   ]
  },
  {
   "cell_type": "markdown",
   "id": "d6f96a0a",
   "metadata": {},
   "source": [
    "#### Description of the colums \n",
    "\n",
    "Pregnancies: Number of times pregnant\n",
    "\n",
    "Glucose: Plasma glucose concentration a 2 hours in an oral glucose tolerance test\n",
    "\n",
    "BloodPressure: Diastolic blood pressure (mm Hg)\n",
    "\n",
    "SkinThickness: Triceps skin fold thickness (mm)\n",
    "\n",
    "Insulin: 2-Hour serum insulin (mu U/ml)\n",
    "\n",
    "BMI: Body mass index (weight in kg/(height in m)^2)\n",
    "\n",
    "DiabetesPedigreeFunction: Diabetes pedigree function\n",
    "\n",
    "Age: Age (years)\n",
    "\n",
    "Outcome: Class variable (0 or 1)"
   ]
  },
  {
   "cell_type": "markdown",
   "id": "c61f758c",
   "metadata": {},
   "source": [
    "### Exploratory Data Analysis ( EDA )"
   ]
  },
  {
   "cell_type": "code",
   "execution_count": 82,
   "id": "b7de03d7",
   "metadata": {},
   "outputs": [
    {
     "data": {
      "text/plain": [
       "(768, 9)"
      ]
     },
     "execution_count": 82,
     "metadata": {},
     "output_type": "execute_result"
    }
   ],
   "source": [
    "# No.of rows and columns \n",
    "diabetes_data.shape"
   ]
  },
  {
   "cell_type": "code",
   "execution_count": 83,
   "id": "2c74c129",
   "metadata": {},
   "outputs": [
    {
     "data": {
      "text/plain": [
       "Pregnancies                   int64\n",
       "Glucose                       int64\n",
       "BloodPressure                 int64\n",
       "SkinThickness                 int64\n",
       "Insulin                       int64\n",
       "BMI                         float64\n",
       "DiabetesPedigreeFunction    float64\n",
       "Age                           int64\n",
       "Outcome                       int64\n",
       "dtype: object"
      ]
     },
     "execution_count": 83,
     "metadata": {},
     "output_type": "execute_result"
    }
   ],
   "source": [
    "# List of Types of all columns \n",
    "diabetes_data.dtypes"
   ]
  },
  {
   "cell_type": "code",
   "execution_count": 84,
   "id": "acf9d1b4",
   "metadata": {},
   "outputs": [
    {
     "data": {
      "text/html": [
       "<div>\n",
       "<style scoped>\n",
       "    .dataframe tbody tr th:only-of-type {\n",
       "        vertical-align: middle;\n",
       "    }\n",
       "\n",
       "    .dataframe tbody tr th {\n",
       "        vertical-align: top;\n",
       "    }\n",
       "\n",
       "    .dataframe thead th {\n",
       "        text-align: right;\n",
       "    }\n",
       "</style>\n",
       "<table border=\"1\" class=\"dataframe\">\n",
       "  <thead>\n",
       "    <tr style=\"text-align: right;\">\n",
       "      <th></th>\n",
       "      <th>Pregnancies</th>\n",
       "      <th>Glucose</th>\n",
       "      <th>BloodPressure</th>\n",
       "      <th>SkinThickness</th>\n",
       "      <th>Insulin</th>\n",
       "      <th>BMI</th>\n",
       "      <th>DiabetesPedigreeFunction</th>\n",
       "      <th>Age</th>\n",
       "      <th>Outcome</th>\n",
       "    </tr>\n",
       "  </thead>\n",
       "  <tbody>\n",
       "    <tr>\n",
       "      <th>count</th>\n",
       "      <td>768.000000</td>\n",
       "      <td>768.000000</td>\n",
       "      <td>768.000000</td>\n",
       "      <td>768.000000</td>\n",
       "      <td>768.000000</td>\n",
       "      <td>768.000000</td>\n",
       "      <td>768.000000</td>\n",
       "      <td>768.000000</td>\n",
       "      <td>768.000000</td>\n",
       "    </tr>\n",
       "    <tr>\n",
       "      <th>mean</th>\n",
       "      <td>3.845052</td>\n",
       "      <td>120.894531</td>\n",
       "      <td>69.105469</td>\n",
       "      <td>20.536458</td>\n",
       "      <td>79.799479</td>\n",
       "      <td>31.992578</td>\n",
       "      <td>0.471876</td>\n",
       "      <td>33.240885</td>\n",
       "      <td>0.348958</td>\n",
       "    </tr>\n",
       "    <tr>\n",
       "      <th>std</th>\n",
       "      <td>3.369578</td>\n",
       "      <td>31.972618</td>\n",
       "      <td>19.355807</td>\n",
       "      <td>15.952218</td>\n",
       "      <td>115.244002</td>\n",
       "      <td>7.884160</td>\n",
       "      <td>0.331329</td>\n",
       "      <td>11.760232</td>\n",
       "      <td>0.476951</td>\n",
       "    </tr>\n",
       "    <tr>\n",
       "      <th>min</th>\n",
       "      <td>0.000000</td>\n",
       "      <td>0.000000</td>\n",
       "      <td>0.000000</td>\n",
       "      <td>0.000000</td>\n",
       "      <td>0.000000</td>\n",
       "      <td>0.000000</td>\n",
       "      <td>0.078000</td>\n",
       "      <td>21.000000</td>\n",
       "      <td>0.000000</td>\n",
       "    </tr>\n",
       "    <tr>\n",
       "      <th>25%</th>\n",
       "      <td>1.000000</td>\n",
       "      <td>99.000000</td>\n",
       "      <td>62.000000</td>\n",
       "      <td>0.000000</td>\n",
       "      <td>0.000000</td>\n",
       "      <td>27.300000</td>\n",
       "      <td>0.243750</td>\n",
       "      <td>24.000000</td>\n",
       "      <td>0.000000</td>\n",
       "    </tr>\n",
       "    <tr>\n",
       "      <th>50%</th>\n",
       "      <td>3.000000</td>\n",
       "      <td>117.000000</td>\n",
       "      <td>72.000000</td>\n",
       "      <td>23.000000</td>\n",
       "      <td>30.500000</td>\n",
       "      <td>32.000000</td>\n",
       "      <td>0.372500</td>\n",
       "      <td>29.000000</td>\n",
       "      <td>0.000000</td>\n",
       "    </tr>\n",
       "    <tr>\n",
       "      <th>75%</th>\n",
       "      <td>6.000000</td>\n",
       "      <td>140.250000</td>\n",
       "      <td>80.000000</td>\n",
       "      <td>32.000000</td>\n",
       "      <td>127.250000</td>\n",
       "      <td>36.600000</td>\n",
       "      <td>0.626250</td>\n",
       "      <td>41.000000</td>\n",
       "      <td>1.000000</td>\n",
       "    </tr>\n",
       "    <tr>\n",
       "      <th>max</th>\n",
       "      <td>17.000000</td>\n",
       "      <td>199.000000</td>\n",
       "      <td>122.000000</td>\n",
       "      <td>99.000000</td>\n",
       "      <td>846.000000</td>\n",
       "      <td>67.100000</td>\n",
       "      <td>2.420000</td>\n",
       "      <td>81.000000</td>\n",
       "      <td>1.000000</td>\n",
       "    </tr>\n",
       "  </tbody>\n",
       "</table>\n",
       "</div>"
      ],
      "text/plain": [
       "       Pregnancies     Glucose  BloodPressure  SkinThickness     Insulin  \\\n",
       "count   768.000000  768.000000     768.000000     768.000000  768.000000   \n",
       "mean      3.845052  120.894531      69.105469      20.536458   79.799479   \n",
       "std       3.369578   31.972618      19.355807      15.952218  115.244002   \n",
       "min       0.000000    0.000000       0.000000       0.000000    0.000000   \n",
       "25%       1.000000   99.000000      62.000000       0.000000    0.000000   \n",
       "50%       3.000000  117.000000      72.000000      23.000000   30.500000   \n",
       "75%       6.000000  140.250000      80.000000      32.000000  127.250000   \n",
       "max      17.000000  199.000000     122.000000      99.000000  846.000000   \n",
       "\n",
       "              BMI  DiabetesPedigreeFunction         Age     Outcome  \n",
       "count  768.000000                768.000000  768.000000  768.000000  \n",
       "mean    31.992578                  0.471876   33.240885    0.348958  \n",
       "std      7.884160                  0.331329   11.760232    0.476951  \n",
       "min      0.000000                  0.078000   21.000000    0.000000  \n",
       "25%     27.300000                  0.243750   24.000000    0.000000  \n",
       "50%     32.000000                  0.372500   29.000000    0.000000  \n",
       "75%     36.600000                  0.626250   41.000000    1.000000  \n",
       "max     67.100000                  2.420000   81.000000    1.000000  "
      ]
     },
     "execution_count": 84,
     "metadata": {},
     "output_type": "execute_result"
    }
   ],
   "source": [
    "# Getting the statistical measures of the data\n",
    "diabetes_data.describe()"
   ]
  },
  {
   "cell_type": "markdown",
   "id": "05738bdf",
   "metadata": {},
   "source": [
    "Because the minimum values for the \"Glucose,\" \"Blood Pressure,\" \"Skin Thickness,\" \"Insulin,\" and \"BMI\" columns are all zero. Since it is obvious that the values cannot be 0, we will remove the duplicates and look for null values."
   ]
  },
  {
   "cell_type": "markdown",
   "id": "7fc3846c",
   "metadata": {},
   "source": [
    "#### Checking for Null values "
   ]
  },
  {
   "cell_type": "code",
   "execution_count": 85,
   "id": "28046851",
   "metadata": {},
   "outputs": [
    {
     "data": {
      "text/plain": [
       "Pregnancies                 0\n",
       "Glucose                     0\n",
       "BloodPressure               0\n",
       "SkinThickness               0\n",
       "Insulin                     0\n",
       "BMI                         0\n",
       "DiabetesPedigreeFunction    0\n",
       "Age                         0\n",
       "Outcome                     0\n",
       "dtype: int64"
      ]
     },
     "execution_count": 85,
     "metadata": {},
     "output_type": "execute_result"
    }
   ],
   "source": [
    "# Checking for the null values \n",
    "diabetes_data.isna().sum()"
   ]
  },
  {
   "cell_type": "markdown",
   "id": "5fc181ff",
   "metadata": {},
   "source": [
    "#### Correlation Analysis "
   ]
  },
  {
   "cell_type": "code",
   "execution_count": 86,
   "id": "934fc6b6",
   "metadata": {},
   "outputs": [
    {
     "data": {
      "text/html": [
       "<div>\n",
       "<style scoped>\n",
       "    .dataframe tbody tr th:only-of-type {\n",
       "        vertical-align: middle;\n",
       "    }\n",
       "\n",
       "    .dataframe tbody tr th {\n",
       "        vertical-align: top;\n",
       "    }\n",
       "\n",
       "    .dataframe thead th {\n",
       "        text-align: right;\n",
       "    }\n",
       "</style>\n",
       "<table border=\"1\" class=\"dataframe\">\n",
       "  <thead>\n",
       "    <tr style=\"text-align: right;\">\n",
       "      <th></th>\n",
       "      <th>Pregnancies</th>\n",
       "      <th>Glucose</th>\n",
       "      <th>BloodPressure</th>\n",
       "      <th>SkinThickness</th>\n",
       "      <th>Insulin</th>\n",
       "      <th>BMI</th>\n",
       "      <th>DiabetesPedigreeFunction</th>\n",
       "      <th>Age</th>\n",
       "      <th>Outcome</th>\n",
       "    </tr>\n",
       "  </thead>\n",
       "  <tbody>\n",
       "    <tr>\n",
       "      <th>Pregnancies</th>\n",
       "      <td>1.000000</td>\n",
       "      <td>0.129459</td>\n",
       "      <td>0.141282</td>\n",
       "      <td>-0.081672</td>\n",
       "      <td>-0.073535</td>\n",
       "      <td>0.017683</td>\n",
       "      <td>-0.033523</td>\n",
       "      <td>0.544341</td>\n",
       "      <td>0.221898</td>\n",
       "    </tr>\n",
       "    <tr>\n",
       "      <th>Glucose</th>\n",
       "      <td>0.129459</td>\n",
       "      <td>1.000000</td>\n",
       "      <td>0.152590</td>\n",
       "      <td>0.057328</td>\n",
       "      <td>0.331357</td>\n",
       "      <td>0.221071</td>\n",
       "      <td>0.137337</td>\n",
       "      <td>0.263514</td>\n",
       "      <td>0.466581</td>\n",
       "    </tr>\n",
       "    <tr>\n",
       "      <th>BloodPressure</th>\n",
       "      <td>0.141282</td>\n",
       "      <td>0.152590</td>\n",
       "      <td>1.000000</td>\n",
       "      <td>0.207371</td>\n",
       "      <td>0.088933</td>\n",
       "      <td>0.281805</td>\n",
       "      <td>0.041265</td>\n",
       "      <td>0.239528</td>\n",
       "      <td>0.065068</td>\n",
       "    </tr>\n",
       "    <tr>\n",
       "      <th>SkinThickness</th>\n",
       "      <td>-0.081672</td>\n",
       "      <td>0.057328</td>\n",
       "      <td>0.207371</td>\n",
       "      <td>1.000000</td>\n",
       "      <td>0.436783</td>\n",
       "      <td>0.392573</td>\n",
       "      <td>0.183928</td>\n",
       "      <td>-0.113970</td>\n",
       "      <td>0.074752</td>\n",
       "    </tr>\n",
       "    <tr>\n",
       "      <th>Insulin</th>\n",
       "      <td>-0.073535</td>\n",
       "      <td>0.331357</td>\n",
       "      <td>0.088933</td>\n",
       "      <td>0.436783</td>\n",
       "      <td>1.000000</td>\n",
       "      <td>0.197859</td>\n",
       "      <td>0.185071</td>\n",
       "      <td>-0.042163</td>\n",
       "      <td>0.130548</td>\n",
       "    </tr>\n",
       "    <tr>\n",
       "      <th>BMI</th>\n",
       "      <td>0.017683</td>\n",
       "      <td>0.221071</td>\n",
       "      <td>0.281805</td>\n",
       "      <td>0.392573</td>\n",
       "      <td>0.197859</td>\n",
       "      <td>1.000000</td>\n",
       "      <td>0.140647</td>\n",
       "      <td>0.036242</td>\n",
       "      <td>0.292695</td>\n",
       "    </tr>\n",
       "    <tr>\n",
       "      <th>DiabetesPedigreeFunction</th>\n",
       "      <td>-0.033523</td>\n",
       "      <td>0.137337</td>\n",
       "      <td>0.041265</td>\n",
       "      <td>0.183928</td>\n",
       "      <td>0.185071</td>\n",
       "      <td>0.140647</td>\n",
       "      <td>1.000000</td>\n",
       "      <td>0.033561</td>\n",
       "      <td>0.173844</td>\n",
       "    </tr>\n",
       "    <tr>\n",
       "      <th>Age</th>\n",
       "      <td>0.544341</td>\n",
       "      <td>0.263514</td>\n",
       "      <td>0.239528</td>\n",
       "      <td>-0.113970</td>\n",
       "      <td>-0.042163</td>\n",
       "      <td>0.036242</td>\n",
       "      <td>0.033561</td>\n",
       "      <td>1.000000</td>\n",
       "      <td>0.238356</td>\n",
       "    </tr>\n",
       "    <tr>\n",
       "      <th>Outcome</th>\n",
       "      <td>0.221898</td>\n",
       "      <td>0.466581</td>\n",
       "      <td>0.065068</td>\n",
       "      <td>0.074752</td>\n",
       "      <td>0.130548</td>\n",
       "      <td>0.292695</td>\n",
       "      <td>0.173844</td>\n",
       "      <td>0.238356</td>\n",
       "      <td>1.000000</td>\n",
       "    </tr>\n",
       "  </tbody>\n",
       "</table>\n",
       "</div>"
      ],
      "text/plain": [
       "                          Pregnancies   Glucose  BloodPressure  SkinThickness  \\\n",
       "Pregnancies                  1.000000  0.129459       0.141282      -0.081672   \n",
       "Glucose                      0.129459  1.000000       0.152590       0.057328   \n",
       "BloodPressure                0.141282  0.152590       1.000000       0.207371   \n",
       "SkinThickness               -0.081672  0.057328       0.207371       1.000000   \n",
       "Insulin                     -0.073535  0.331357       0.088933       0.436783   \n",
       "BMI                          0.017683  0.221071       0.281805       0.392573   \n",
       "DiabetesPedigreeFunction    -0.033523  0.137337       0.041265       0.183928   \n",
       "Age                          0.544341  0.263514       0.239528      -0.113970   \n",
       "Outcome                      0.221898  0.466581       0.065068       0.074752   \n",
       "\n",
       "                           Insulin       BMI  DiabetesPedigreeFunction  \\\n",
       "Pregnancies              -0.073535  0.017683                 -0.033523   \n",
       "Glucose                   0.331357  0.221071                  0.137337   \n",
       "BloodPressure             0.088933  0.281805                  0.041265   \n",
       "SkinThickness             0.436783  0.392573                  0.183928   \n",
       "Insulin                   1.000000  0.197859                  0.185071   \n",
       "BMI                       0.197859  1.000000                  0.140647   \n",
       "DiabetesPedigreeFunction  0.185071  0.140647                  1.000000   \n",
       "Age                      -0.042163  0.036242                  0.033561   \n",
       "Outcome                   0.130548  0.292695                  0.173844   \n",
       "\n",
       "                               Age   Outcome  \n",
       "Pregnancies               0.544341  0.221898  \n",
       "Glucose                   0.263514  0.466581  \n",
       "BloodPressure             0.239528  0.065068  \n",
       "SkinThickness            -0.113970  0.074752  \n",
       "Insulin                  -0.042163  0.130548  \n",
       "BMI                       0.036242  0.292695  \n",
       "DiabetesPedigreeFunction  0.033561  0.173844  \n",
       "Age                       1.000000  0.238356  \n",
       "Outcome                   0.238356  1.000000  "
      ]
     },
     "execution_count": 86,
     "metadata": {},
     "output_type": "execute_result"
    }
   ],
   "source": [
    "diabetes_data.corr()"
   ]
  },
  {
   "cell_type": "code",
   "execution_count": 87,
   "id": "91892177",
   "metadata": {},
   "outputs": [
    {
     "data": {
      "text/plain": [
       "<AxesSubplot:>"
      ]
     },
     "execution_count": 87,
     "metadata": {},
     "output_type": "execute_result"
    },
    {
     "data": {
      "image/png": "[encoded data removed]",
      "text/plain": [
       "<Figure size 640x480 with 2 Axes>"
      ]
     },
     "metadata": {},
     "output_type": "display_data"
    }
   ],
   "source": [
    "sns.heatmap(diabetes_data.corr(),annot=True)"
   ]
  },
  {
   "cell_type": "markdown",
   "id": "167b7d31",
   "metadata": {},
   "source": [
    "According to observation, features like Pregnancies, Glucose, BMI, and Age is more correlated with Outcome"
   ]
  },
  {
   "cell_type": "code",
   "execution_count": 88,
   "id": "c9378f39",
   "metadata": {},
   "outputs": [
    {
     "data": {
      "text/plain": [
       "0    500\n",
       "1    268\n",
       "Name: Outcome, dtype: int64"
      ]
     },
     "execution_count": 88,
     "metadata": {},
     "output_type": "execute_result"
    }
   ],
   "source": [
    "# Getting the count of Diabetic & Non-Diabetic patients \n",
    "diabetes_data['Outcome'].value_counts()"
   ]
  },
  {
   "cell_type": "markdown",
   "id": "818fefdc",
   "metadata": {},
   "source": [
    "Class 0 -> Not Diabetic "
   ]
  },
  {
   "cell_type": "markdown",
   "id": "96c04dfd",
   "metadata": {},
   "source": [
    "Class 1 -> Diabetic "
   ]
  },
  {
   "cell_type": "code",
   "execution_count": 89,
   "id": "d7672878",
   "metadata": {},
   "outputs": [
    {
     "data": {
      "text/html": [
       "<div>\n",
       "<style scoped>\n",
       "    .dataframe tbody tr th:only-of-type {\n",
       "        vertical-align: middle;\n",
       "    }\n",
       "\n",
       "    .dataframe tbody tr th {\n",
       "        vertical-align: top;\n",
       "    }\n",
       "\n",
       "    .dataframe thead th {\n",
       "        text-align: right;\n",
       "    }\n",
       "</style>\n",
       "<table border=\"1\" class=\"dataframe\">\n",
       "  <thead>\n",
       "    <tr style=\"text-align: right;\">\n",
       "      <th></th>\n",
       "      <th>Pregnancies</th>\n",
       "      <th>Glucose</th>\n",
       "      <th>BloodPressure</th>\n",
       "      <th>SkinThickness</th>\n",
       "      <th>Insulin</th>\n",
       "      <th>BMI</th>\n",
       "      <th>DiabetesPedigreeFunction</th>\n",
       "      <th>Age</th>\n",
       "    </tr>\n",
       "    <tr>\n",
       "      <th>Outcome</th>\n",
       "      <th></th>\n",
       "      <th></th>\n",
       "      <th></th>\n",
       "      <th></th>\n",
       "      <th></th>\n",
       "      <th></th>\n",
       "      <th></th>\n",
       "      <th></th>\n",
       "    </tr>\n",
       "  </thead>\n",
       "  <tbody>\n",
       "    <tr>\n",
       "      <th>0</th>\n",
       "      <td>3.298000</td>\n",
       "      <td>109.980000</td>\n",
       "      <td>68.184000</td>\n",
       "      <td>19.664000</td>\n",
       "      <td>68.792000</td>\n",
       "      <td>30.304200</td>\n",
       "      <td>0.429734</td>\n",
       "      <td>31.190000</td>\n",
       "    </tr>\n",
       "    <tr>\n",
       "      <th>1</th>\n",
       "      <td>4.865672</td>\n",
       "      <td>141.257463</td>\n",
       "      <td>70.824627</td>\n",
       "      <td>22.164179</td>\n",
       "      <td>100.335821</td>\n",
       "      <td>35.142537</td>\n",
       "      <td>0.550500</td>\n",
       "      <td>37.067164</td>\n",
       "    </tr>\n",
       "  </tbody>\n",
       "</table>\n",
       "</div>"
      ],
      "text/plain": [
       "         Pregnancies     Glucose  BloodPressure  SkinThickness     Insulin  \\\n",
       "Outcome                                                                      \n",
       "0           3.298000  109.980000      68.184000      19.664000   68.792000   \n",
       "1           4.865672  141.257463      70.824627      22.164179  100.335821   \n",
       "\n",
       "               BMI  DiabetesPedigreeFunction        Age  \n",
       "Outcome                                                  \n",
       "0        30.304200                  0.429734  31.190000  \n",
       "1        35.142537                  0.550500  37.067164  "
      ]
     },
     "execution_count": 89,
     "metadata": {},
     "output_type": "execute_result"
    }
   ],
   "source": [
    "# Grouping the data based on the Outline and Getting the mean value of the features.\n",
    "diabetes_data.groupby('Outcome').mean()"
   ]
  },
  {
   "cell_type": "markdown",
   "id": "5cad8699",
   "metadata": {},
   "source": [
    "For instance, in the \"Glucose\" column, a non-diabetic person's mean value is 109.98, whereas a diabetic person's mean value is 141.25. When producing the forecast, the machine learning model will examine and find this mean value."
   ]
  },
  {
   "cell_type": "markdown",
   "id": "9bb9bd1a",
   "metadata": {},
   "source": [
    "### Seperating data into Input and Output labels"
   ]
  },
  {
   "cell_type": "markdown",
   "id": "9cdf130d",
   "metadata": {},
   "source": [
    "In our case, Output Label is considered as the 'Outcome' Column, as it is giving us the data about if a person is diabetic or non-diabetic. "
   ]
  },
  {
   "cell_type": "code",
   "execution_count": 90,
   "id": "d384f76d",
   "metadata": {},
   "outputs": [],
   "source": [
    "# Seperating the data and variables\n",
    "X = diabetes_data.drop(columns = 'Outcome')\n",
    "Y = diabetes_data['Outcome']"
   ]
  },
  {
   "cell_type": "code",
   "execution_count": 91,
   "id": "5eb9d0b2",
   "metadata": {},
   "outputs": [
    {
     "data": {
      "text/html": [
       "<div>\n",
       "<style scoped>\n",
       "    .dataframe tbody tr th:only-of-type {\n",
       "        vertical-align: middle;\n",
       "    }\n",
       "\n",
       "    .dataframe tbody tr th {\n",
       "        vertical-align: top;\n",
       "    }\n",
       "\n",
       "    .dataframe thead th {\n",
       "        text-align: right;\n",
       "    }\n",
       "</style>\n",
       "<table border=\"1\" class=\"dataframe\">\n",
       "  <thead>\n",
       "    <tr style=\"text-align: right;\">\n",
       "      <th></th>\n",
       "      <th>Pregnancies</th>\n",
       "      <th>Glucose</th>\n",
       "      <th>BloodPressure</th>\n",
       "      <th>SkinThickness</th>\n",
       "      <th>Insulin</th>\n",
       "      <th>BMI</th>\n",
       "      <th>DiabetesPedigreeFunction</th>\n",
       "      <th>Age</th>\n",
       "    </tr>\n",
       "  </thead>\n",
       "  <tbody>\n",
       "    <tr>\n",
       "      <th>0</th>\n",
       "      <td>6</td>\n",
       "      <td>148</td>\n",
       "      <td>72</td>\n",
       "      <td>35</td>\n",
       "      <td>0</td>\n",
       "      <td>33.6</td>\n",
       "      <td>0.627</td>\n",
       "      <td>50</td>\n",
       "    </tr>\n",
       "    <tr>\n",
       "      <th>1</th>\n",
       "      <td>1</td>\n",
       "      <td>85</td>\n",
       "      <td>66</td>\n",
       "      <td>29</td>\n",
       "      <td>0</td>\n",
       "      <td>26.6</td>\n",
       "      <td>0.351</td>\n",
       "      <td>31</td>\n",
       "    </tr>\n",
       "    <tr>\n",
       "      <th>2</th>\n",
       "      <td>8</td>\n",
       "      <td>183</td>\n",
       "      <td>64</td>\n",
       "      <td>0</td>\n",
       "      <td>0</td>\n",
       "      <td>23.3</td>\n",
       "      <td>0.672</td>\n",
       "      <td>32</td>\n",
       "    </tr>\n",
       "    <tr>\n",
       "      <th>3</th>\n",
       "      <td>1</td>\n",
       "      <td>89</td>\n",
       "      <td>66</td>\n",
       "      <td>23</td>\n",
       "      <td>94</td>\n",
       "      <td>28.1</td>\n",
       "      <td>0.167</td>\n",
       "      <td>21</td>\n",
       "    </tr>\n",
       "    <tr>\n",
       "      <th>4</th>\n",
       "      <td>0</td>\n",
       "      <td>137</td>\n",
       "      <td>40</td>\n",
       "      <td>35</td>\n",
       "      <td>168</td>\n",
       "      <td>43.1</td>\n",
       "      <td>2.288</td>\n",
       "      <td>33</td>\n",
       "    </tr>\n",
       "  </tbody>\n",
       "</table>\n",
       "</div>"
      ],
      "text/plain": [
       "   Pregnancies  Glucose  BloodPressure  SkinThickness  Insulin   BMI  \\\n",
       "0            6      148             72             35        0  33.6   \n",
       "1            1       85             66             29        0  26.6   \n",
       "2            8      183             64              0        0  23.3   \n",
       "3            1       89             66             23       94  28.1   \n",
       "4            0      137             40             35      168  43.1   \n",
       "\n",
       "   DiabetesPedigreeFunction  Age  \n",
       "0                     0.627   50  \n",
       "1                     0.351   31  \n",
       "2                     0.672   32  \n",
       "3                     0.167   21  \n",
       "4                     2.288   33  "
      ]
     },
     "execution_count": 91,
     "metadata": {},
     "output_type": "execute_result"
    }
   ],
   "source": [
    "# \"X\" is the Input variable\n",
    "X.head()"
   ]
  },
  {
   "cell_type": "code",
   "execution_count": 92,
   "id": "c971f526",
   "metadata": {},
   "outputs": [
    {
     "data": {
      "text/plain": [
       "0    1\n",
       "1    0\n",
       "2    1\n",
       "3    0\n",
       "4    1\n",
       "Name: Outcome, dtype: int64"
      ]
     },
     "execution_count": 92,
     "metadata": {},
     "output_type": "execute_result"
    }
   ],
   "source": [
    "# \"Y\" is the Output Variable\n",
    "Y.head()"
   ]
  },
  {
   "cell_type": "markdown",
   "id": "6c5f0d9c",
   "metadata": {},
   "source": [
    "### Data Standardization"
   ]
  },
  {
   "cell_type": "markdown",
   "id": "4cf9a544",
   "metadata": {},
   "source": [
    "Standardizing all the features in on the same scale for the model to perform efficiently."
   ]
  },
  {
   "cell_type": "code",
   "execution_count": 93,
   "id": "88d28bcd",
   "metadata": {},
   "outputs": [],
   "source": [
    "# Importing the StandardScaler\n",
    "scaler = StandardScaler()"
   ]
  },
  {
   "cell_type": "code",
   "execution_count": 94,
   "id": "41a1f8fa",
   "metadata": {},
   "outputs": [
    {
     "data": {
      "text/plain": [
       "StandardScaler()"
      ]
     },
     "execution_count": 94,
     "metadata": {},
     "output_type": "execute_result"
    }
   ],
   "source": [
    "# Calculating all the parameters (mean & standard deviation (0 ,1))\n",
    "scaler.fit(X)"
   ]
  },
  {
   "cell_type": "code",
   "execution_count": 95,
   "id": "12779ec7",
   "metadata": {},
   "outputs": [],
   "source": [
    "# Transforming data into a standardized format ( all columns in the same range)\n",
    "standardized_data = scaler.transform(X)"
   ]
  },
  {
   "cell_type": "code",
   "execution_count": 96,
   "id": "9a3bbbe0",
   "metadata": {},
   "outputs": [
    {
     "name": "stdout",
     "output_type": "stream",
     "text": [
      "[[ 0.63994726  0.84832379  0.14964075 ...  0.20401277  0.46849198\n",
      "   1.4259954 ]\n",
      " [-0.84488505 -1.12339636 -0.16054575 ... -0.68442195 -0.36506078\n",
      "  -0.19067191]\n",
      " [ 1.23388019  1.94372388 -0.26394125 ... -1.10325546  0.60439732\n",
      "  -0.10558415]\n",
      " ...\n",
      " [ 0.3429808   0.00330087  0.14964075 ... -0.73518964 -0.68519336\n",
      "  -0.27575966]\n",
      " [-0.84488505  0.1597866  -0.47073225 ... -0.24020459 -0.37110101\n",
      "   1.17073215]\n",
      " [-0.84488505 -0.8730192   0.04624525 ... -0.20212881 -0.47378505\n",
      "  -0.87137393]]\n"
     ]
    }
   ],
   "source": [
    "print(standardized_data)"
   ]
  },
  {
   "cell_type": "code",
   "execution_count": 97,
   "id": "64ceb91d",
   "metadata": {},
   "outputs": [],
   "source": [
    "# Replacing data with standardized data into input label\n",
    "X = standardized_data\n",
    "Y = diabetes_data['Outcome']"
   ]
  },
  {
   "cell_type": "code",
   "execution_count": 98,
   "id": "6feae6e7",
   "metadata": {},
   "outputs": [
    {
     "name": "stdout",
     "output_type": "stream",
     "text": [
      "[[ 0.63994726  0.84832379  0.14964075 ...  0.20401277  0.46849198\n",
      "   1.4259954 ]\n",
      " [-0.84488505 -1.12339636 -0.16054575 ... -0.68442195 -0.36506078\n",
      "  -0.19067191]\n",
      " [ 1.23388019  1.94372388 -0.26394125 ... -1.10325546  0.60439732\n",
      "  -0.10558415]\n",
      " ...\n",
      " [ 0.3429808   0.00330087  0.14964075 ... -0.73518964 -0.68519336\n",
      "  -0.27575966]\n",
      " [-0.84488505  0.1597866  -0.47073225 ... -0.24020459 -0.37110101\n",
      "   1.17073215]\n",
      " [-0.84488505 -0.8730192   0.04624525 ... -0.20212881 -0.47378505\n",
      "  -0.87137393]]\n",
      "0      1\n",
      "1      0\n",
      "2      1\n",
      "3      0\n",
      "4      1\n",
      "      ..\n",
      "763    0\n",
      "764    0\n",
      "765    0\n",
      "766    1\n",
      "767    0\n",
      "Name: Outcome, Length: 768, dtype: int64\n"
     ]
    }
   ],
   "source": [
    "print (X)\n",
    "print (Y)"
   ]
  },
  {
   "cell_type": "markdown",
   "id": "fa9f812b",
   "metadata": {},
   "source": [
    "### Splitting the data into Training and Testing values "
   ]
  },
  {
   "cell_type": "code",
   "execution_count": 99,
   "id": "630098e6",
   "metadata": {},
   "outputs": [],
   "source": [
    "X_train, X_test, Y_train, Y_test = train_test_split(X,Y, test_size = 0.2, stratify=Y, random_state=2)"
   ]
  },
  {
   "cell_type": "code",
   "execution_count": 100,
   "id": "f9b5dbe1",
   "metadata": {},
   "outputs": [
    {
     "data": {
      "text/plain": [
       "((614, 8), (154, 8))"
      ]
     },
     "execution_count": 100,
     "metadata": {},
     "output_type": "execute_result"
    }
   ],
   "source": [
    "# Checking the stats of train and test data set\n",
    "X_train.shape, X_test.shape"
   ]
  },
  {
   "cell_type": "markdown",
   "id": "4eb39455",
   "metadata": {},
   "source": [
    "### Training the model"
   ]
  },
  {
   "cell_type": "code",
   "execution_count": 101,
   "id": "74f978ce",
   "metadata": {},
   "outputs": [],
   "source": [
    "# Calling SVM and storing the model\n",
    "classifier = svm.SVC(kernel='linear')"
   ]
  },
  {
   "cell_type": "code",
   "execution_count": 102,
   "id": "c668c220",
   "metadata": {},
   "outputs": [
    {
     "data": {
      "text/plain": [
       "SVC(kernel='linear')"
      ]
     },
     "execution_count": 102,
     "metadata": {},
     "output_type": "execute_result"
    }
   ],
   "source": [
    "# Feeding the data into the classifier \n",
    "classifier.fit(X_train, Y_train)"
   ]
  },
  {
   "cell_type": "markdown",
   "id": "ed4d2911",
   "metadata": {},
   "source": [
    "#### Making predictions with training data "
   ]
  },
  {
   "cell_type": "code",
   "execution_count": 103,
   "id": "8fae9bdd",
   "metadata": {},
   "outputs": [],
   "source": [
    "# Making predictions based on training data\n",
    "predictions = classifier.predict(X_train)"
   ]
  },
  {
   "cell_type": "code",
   "execution_count": 104,
   "id": "a191a5a1",
   "metadata": {},
   "outputs": [
    {
     "data": {
      "text/plain": [
       "array([0, 0, 1, 0, 1, 1, 0, 1, 0, 0, 1, 1, 0, 0, 0, 0, 0, 0, 0, 0, 0, 0,\n",
       "       0, 0, 0, 0, 1, 0, 0, 0, 0, 0, 0, 0, 0, 1, 0, 0, 0, 0, 0, 1, 0, 0,\n",
       "       0, 0, 0, 0, 1, 0, 0, 0, 0, 1, 0, 0, 0, 0, 0, 0, 0, 0, 0, 0, 0, 0,\n",
       "       0, 1, 1, 0, 0, 0, 0, 0, 1, 0, 0, 0, 0, 0, 0, 1, 1, 0, 0, 0, 0, 1,\n",
       "       0, 0, 0, 0, 1, 0, 0, 1, 0, 0, 1, 1, 0, 1, 1, 0, 0, 0, 0, 0, 0, 0,\n",
       "       1, 0, 0, 0, 0, 0, 0, 0, 1, 0, 1, 0, 1, 0, 0, 1, 1, 1, 0, 1, 0, 1,\n",
       "       1, 0, 0, 0, 0, 1, 0, 0, 0, 0, 0, 0, 1, 0, 0, 0, 0, 1, 0, 1, 1, 0,\n",
       "       1, 0, 0, 1, 1, 0, 0, 1, 0, 0, 0, 0, 1, 0, 0, 0, 0, 0, 0, 0, 1, 0,\n",
       "       1, 0, 0, 0, 0, 1, 0, 0, 1, 0, 0, 0, 1, 0, 0, 0, 1, 0, 0, 1, 0, 0,\n",
       "       1, 0, 0, 0, 0, 0, 1, 0, 1, 0, 0, 0, 0, 0, 0, 0, 1, 0, 0, 0, 0, 1,\n",
       "       0, 0, 0, 1, 0, 0, 0, 0, 0, 0, 0, 1, 0, 0, 0, 1, 1, 0, 1, 1, 0, 1,\n",
       "       0, 0, 0, 0, 0, 0, 1, 0, 0, 1, 0, 0, 0, 0, 1, 1, 1, 0, 0, 0, 0, 0,\n",
       "       0, 0, 0, 0, 0, 0, 1, 0, 0, 0, 0, 0, 1, 0, 0, 0, 0, 1, 0, 0, 0, 0,\n",
       "       0, 0, 0, 0, 0, 0, 0, 0, 1, 0, 0, 0, 0, 0, 1, 0, 0, 0, 0, 0, 0, 0,\n",
       "       0, 1, 0, 0, 0, 0, 1, 0, 0, 1, 1, 0, 1, 0, 0, 0, 0, 0, 0, 0, 1, 0,\n",
       "       0, 0, 1, 0, 0, 0, 1, 0, 0, 0, 0, 1, 0, 0, 1, 0, 0, 1, 1, 0, 1, 0,\n",
       "       0, 0, 1, 0, 0, 0, 0, 1, 0, 0, 0, 1, 1, 0, 1, 0, 0, 0, 0, 1, 1, 1,\n",
       "       0, 0, 1, 1, 1, 0, 1, 0, 0, 0, 1, 0, 1, 0, 0, 0, 1, 0, 0, 1, 1, 0,\n",
       "       0, 0, 0, 1, 1, 0, 0, 1, 0, 0, 0, 1, 0, 0, 0, 0, 0, 0, 0, 0, 0, 0,\n",
       "       0, 1, 0, 0, 0, 0, 0, 1, 0, 0, 0, 0, 0, 0, 0, 1, 1, 0, 0, 0, 0, 1,\n",
       "       0, 0, 0, 1, 0, 1, 0, 0, 1, 1, 1, 0, 0, 0, 1, 0, 0, 0, 1, 1, 0, 0,\n",
       "       0, 0, 0, 1, 1, 0, 0, 0, 0, 1, 1, 0, 0, 0, 0, 0, 1, 0, 0, 0, 0, 0,\n",
       "       0, 1, 0, 1, 0, 0, 0, 1, 0, 1, 1, 0, 1, 0, 1, 1, 0, 0, 0, 0, 0, 1,\n",
       "       0, 0, 1, 0, 0, 1, 0, 0, 1, 1, 0, 0, 0, 1, 0, 1, 1, 1, 0, 0, 0, 0,\n",
       "       0, 0, 0, 1, 0, 1, 1, 0, 0, 1, 0, 1, 0, 1, 0, 1, 0, 1, 0, 1, 1, 0,\n",
       "       0, 0, 1, 0, 0, 1, 0, 0, 0, 0, 0, 1, 0, 0, 0, 0, 0, 1, 0, 0, 1, 0,\n",
       "       0, 0, 0, 0, 1, 0, 1, 1, 0, 1, 1, 0, 0, 0, 0, 1, 1, 1, 0, 0, 0, 0,\n",
       "       0, 0, 1, 0, 0, 0, 0, 0, 0, 1, 0, 0, 1, 1, 0, 1, 0, 0, 0, 0])"
      ]
     },
     "execution_count": 104,
     "metadata": {},
     "output_type": "execute_result"
    }
   ],
   "source": [
    "predictions"
   ]
  },
  {
   "cell_type": "markdown",
   "id": "5a6c3620",
   "metadata": {},
   "source": [
    "#### Making predictions with testing data"
   ]
  },
  {
   "cell_type": "code",
   "execution_count": 105,
   "id": "032e5f79",
   "metadata": {},
   "outputs": [],
   "source": [
    "# Making predictions based on training data\n",
    "predictions = classifier.predict(X_test)"
   ]
  },
  {
   "cell_type": "code",
   "execution_count": 106,
   "id": "06b010d8",
   "metadata": {},
   "outputs": [
    {
     "data": {
      "text/plain": [
       "array([0, 0, 1, 1, 0, 0, 0, 1, 0, 1, 1, 0, 0, 1, 0, 1, 0, 0, 0, 0, 0, 0,\n",
       "       1, 0, 0, 0, 0, 1, 0, 1, 0, 0, 0, 1, 0, 0, 0, 0, 0, 0, 1, 0, 0, 1,\n",
       "       0, 0, 0, 0, 0, 0, 0, 0, 1, 0, 1, 0, 0, 0, 0, 0, 0, 0, 0, 0, 1, 0,\n",
       "       0, 1, 0, 0, 1, 0, 1, 0, 1, 0, 0, 0, 0, 0, 0, 0, 0, 0, 0, 1, 0, 0,\n",
       "       1, 0, 0, 0, 1, 0, 0, 1, 0, 0, 1, 1, 0, 0, 0, 0, 0, 0, 0, 0, 0, 0,\n",
       "       1, 0, 0, 0, 0, 1, 0, 1, 0, 1, 0, 0, 0, 1, 1, 0, 0, 0, 0, 0, 0, 1,\n",
       "       1, 0, 0, 0, 0, 0, 0, 0, 0, 1, 0, 0, 0, 1, 0, 0, 0, 0, 1, 0, 0, 0])"
      ]
     },
     "execution_count": 106,
     "metadata": {},
     "output_type": "execute_result"
    }
   ],
   "source": [
    "predictions"
   ]
  },
  {
   "cell_type": "markdown",
   "id": "97190d8f",
   "metadata": {},
   "source": [
    "# PART D - EVALUATION & TESTING"
   ]
  },
  {
   "cell_type": "markdown",
   "id": "d2b014e8",
   "metadata": {},
   "source": [
    "### Model Evaluation - Accuracy Score"
   ]
  },
  {
   "cell_type": "markdown",
   "id": "4e05a567",
   "metadata": {},
   "source": [
    "#### Accuracy score with training data"
   ]
  },
  {
   "cell_type": "code",
   "execution_count": 107,
   "id": "7493018a",
   "metadata": {},
   "outputs": [],
   "source": [
    "# Accuracy score on the training data\n",
    "X_train_prediction = classifier.predict(X_train)\n",
    "training_data_accuracy = accuracy_score(X_train_prediction, Y_train)"
   ]
  },
  {
   "cell_type": "code",
   "execution_count": 108,
   "id": "7e1fac2d",
   "metadata": {},
   "outputs": [
    {
     "name": "stdout",
     "output_type": "stream",
     "text": [
      "Accuracy score of the training data :  0.7866449511400652\n"
     ]
    }
   ],
   "source": [
    "print('Accuracy score of the training data : ', training_data_accuracy)"
   ]
  },
  {
   "cell_type": "markdown",
   "id": "0fdee9a4",
   "metadata": {},
   "source": [
    "#### Accuracy score with testing data "
   ]
  },
  {
   "cell_type": "code",
   "execution_count": 109,
   "id": "c28feadc",
   "metadata": {},
   "outputs": [],
   "source": [
    "# Accuracy score on the test data\n",
    "X_test_prediction = classifier.predict(X_test)\n",
    "test_data_accuracy = accuracy_score(X_test_prediction, Y_test)"
   ]
  },
  {
   "cell_type": "code",
   "execution_count": 110,
   "id": "2318f719",
   "metadata": {},
   "outputs": [
    {
     "name": "stdout",
     "output_type": "stream",
     "text": [
      "Accuracy score of the test data :  0.7727272727272727\n"
     ]
    }
   ],
   "source": [
    "print('Accuracy score of the test data : ', test_data_accuracy)"
   ]
  },
  {
   "cell_type": "markdown",
   "id": "12c78dd4",
   "metadata": {},
   "source": [
    "## Making predictive systems"
   ]
  },
  {
   "cell_type": "markdown",
   "id": "3bcf671f",
   "metadata": {},
   "source": [
    "### Predictive system"
   ]
  },
  {
   "cell_type": "code",
   "execution_count": 111,
   "id": "ad5938b9",
   "metadata": {},
   "outputs": [
    {
     "data": {
      "text/html": [
       "<div>\n",
       "<style scoped>\n",
       "    .dataframe tbody tr th:only-of-type {\n",
       "        vertical-align: middle;\n",
       "    }\n",
       "\n",
       "    .dataframe tbody tr th {\n",
       "        vertical-align: top;\n",
       "    }\n",
       "\n",
       "    .dataframe thead th {\n",
       "        text-align: right;\n",
       "    }\n",
       "</style>\n",
       "<table border=\"1\" class=\"dataframe\">\n",
       "  <thead>\n",
       "    <tr style=\"text-align: right;\">\n",
       "      <th></th>\n",
       "      <th>Pregnancies</th>\n",
       "      <th>Glucose</th>\n",
       "      <th>BloodPressure</th>\n",
       "      <th>SkinThickness</th>\n",
       "      <th>Insulin</th>\n",
       "      <th>BMI</th>\n",
       "      <th>DiabetesPedigreeFunction</th>\n",
       "      <th>Age</th>\n",
       "      <th>Outcome</th>\n",
       "    </tr>\n",
       "  </thead>\n",
       "  <tbody>\n",
       "    <tr>\n",
       "      <th>0</th>\n",
       "      <td>6</td>\n",
       "      <td>148</td>\n",
       "      <td>72</td>\n",
       "      <td>35</td>\n",
       "      <td>0</td>\n",
       "      <td>33.6</td>\n",
       "      <td>0.627</td>\n",
       "      <td>50</td>\n",
       "      <td>1</td>\n",
       "    </tr>\n",
       "    <tr>\n",
       "      <th>1</th>\n",
       "      <td>1</td>\n",
       "      <td>85</td>\n",
       "      <td>66</td>\n",
       "      <td>29</td>\n",
       "      <td>0</td>\n",
       "      <td>26.6</td>\n",
       "      <td>0.351</td>\n",
       "      <td>31</td>\n",
       "      <td>0</td>\n",
       "    </tr>\n",
       "    <tr>\n",
       "      <th>2</th>\n",
       "      <td>8</td>\n",
       "      <td>183</td>\n",
       "      <td>64</td>\n",
       "      <td>0</td>\n",
       "      <td>0</td>\n",
       "      <td>23.3</td>\n",
       "      <td>0.672</td>\n",
       "      <td>32</td>\n",
       "      <td>1</td>\n",
       "    </tr>\n",
       "    <tr>\n",
       "      <th>3</th>\n",
       "      <td>1</td>\n",
       "      <td>89</td>\n",
       "      <td>66</td>\n",
       "      <td>23</td>\n",
       "      <td>94</td>\n",
       "      <td>28.1</td>\n",
       "      <td>0.167</td>\n",
       "      <td>21</td>\n",
       "      <td>0</td>\n",
       "    </tr>\n",
       "    <tr>\n",
       "      <th>4</th>\n",
       "      <td>0</td>\n",
       "      <td>137</td>\n",
       "      <td>40</td>\n",
       "      <td>35</td>\n",
       "      <td>168</td>\n",
       "      <td>43.1</td>\n",
       "      <td>2.288</td>\n",
       "      <td>33</td>\n",
       "      <td>1</td>\n",
       "    </tr>\n",
       "  </tbody>\n",
       "</table>\n",
       "</div>"
      ],
      "text/plain": [
       "   Pregnancies  Glucose  BloodPressure  SkinThickness  Insulin   BMI  \\\n",
       "0            6      148             72             35        0  33.6   \n",
       "1            1       85             66             29        0  26.6   \n",
       "2            8      183             64              0        0  23.3   \n",
       "3            1       89             66             23       94  28.1   \n",
       "4            0      137             40             35      168  43.1   \n",
       "\n",
       "   DiabetesPedigreeFunction  Age  Outcome  \n",
       "0                     0.627   50        1  \n",
       "1                     0.351   31        0  \n",
       "2                     0.672   32        1  \n",
       "3                     0.167   21        0  \n",
       "4                     2.288   33        1  "
      ]
     },
     "execution_count": 111,
     "metadata": {},
     "output_type": "execute_result"
    }
   ],
   "source": [
    "diabetes_data.head()  "
   ]
  },
  {
   "cell_type": "code",
   "execution_count": 112,
   "id": "2543b990",
   "metadata": {},
   "outputs": [],
   "source": [
    "input_data = (5,166,72,19,175,25.8,0.587,51)"
   ]
  },
  {
   "cell_type": "code",
   "execution_count": 113,
   "id": "23046275",
   "metadata": {},
   "outputs": [],
   "source": [
    "# Converting input_data to numpyarray\n",
    "data_to_np_array = np.asarray(input_data)\n",
    "\n",
    "#Reshape the array as we are predicting for one instance\n",
    "input_data_reshaped = data_to_np_array.reshape(1, -1)"
   ]
  },
  {
   "cell_type": "markdown",
   "id": "49159c44",
   "metadata": {},
   "source": [
    "### Standarize the input data"
   ]
  },
  {
   "cell_type": "markdown",
   "id": "d8d2c256",
   "metadata": {},
   "source": [
    "We will use already made functions for standarizng the data, Making prediction and Finding the accuracy."
   ]
  },
  {
   "cell_type": "code",
   "execution_count": 114,
   "id": "07373fe3",
   "metadata": {},
   "outputs": [
    {
     "data": {
      "text/plain": [
       "array([[ 0.3429808 ,  1.41167241,  0.14964075, -0.09637905,  0.82661621,\n",
       "        -0.78595734,  0.34768723,  1.51108316]])"
      ]
     },
     "execution_count": 114,
     "metadata": {},
     "output_type": "execute_result"
    }
   ],
   "source": [
    "std_data = scaler.transform(input_data_reshaped)\n",
    "std_data"
   ]
  },
  {
   "cell_type": "markdown",
   "id": "468fb989",
   "metadata": {},
   "source": [
    "### Making Predictions"
   ]
  },
  {
   "cell_type": "code",
   "execution_count": 115,
   "id": "8254dccb",
   "metadata": {},
   "outputs": [
    {
     "name": "stdout",
     "output_type": "stream",
     "text": [
      "The person is diabetic\n"
     ]
    }
   ],
   "source": [
    "prediction = classifier.predict(std_data)\n",
    "\n",
    "if (prediction[0] == 0):\n",
    "  print('The person is not diabetic')\n",
    "else:\n",
    "  print('The person is diabetic')"
   ]
  },
  {
   "cell_type": "markdown",
   "id": "7a6ac657",
   "metadata": {},
   "source": [
    "# PART E - EVALUATE RESULTS"
   ]
  },
  {
   "cell_type": "code",
   "execution_count": 116,
   "id": "cf661660",
   "metadata": {},
   "outputs": [
    {
     "name": "stdout",
     "output_type": "stream",
     "text": [
      "[[88 12]\n",
      " [30 24]]\n",
      "              precision    recall  f1-score   support\n",
      "\n",
      "           0       0.75      0.88      0.81       100\n",
      "           1       0.67      0.44      0.53        54\n",
      "\n",
      "    accuracy                           0.73       154\n",
      "   macro avg       0.71      0.66      0.67       154\n",
      "weighted avg       0.72      0.73      0.71       154\n",
      "\n"
     ]
    },
    {
     "data": {
      "image/png": "[encoded data removed]",
      "text/plain": [
       "<Figure size 640x480 with 2 Axes>"
      ]
     },
     "metadata": {},
     "output_type": "display_data"
    }
   ],
   "source": [
    "from sklearn.metrics import accuracy_score, roc_auc_score, confusion_matrix, classification_report, plot_roc_curve\n",
    "from sklearn import svm\n",
    "model_2=svm.SVC()\n",
    "model_2.fit(X_train,Y_train)\n",
    "model_2.score(X_test,Y_test)\n",
    "cm = confusion_matrix(Y_test,model_2.predict(X_test))\n",
    "cr=classification_report(Y_test, model_2.predict(X_test))\n",
    "print(cm)\n",
    "print(cr)\n",
    "sns.heatmap(cm, annot=True, fmt=\".0f\")\n",
    "plt.xlabel('y_pred')\n",
    "plt.ylabel('y')\n",
    "plt.show()"
   ]
  },
  {
   "cell_type": "code",
   "execution_count": 117,
   "id": "8f382217",
   "metadata": {},
   "outputs": [
    {
     "data": {
      "image/png": "[encoded data removed]",
      "text/plain": [
       "<Figure size 640x480 with 1 Axes>"
      ]
     },
     "metadata": {},
     "output_type": "display_data"
    }
   ],
   "source": [
    "plot_roc_curve(model_2,X_test,Y_test)\n",
    "plt.title('ROC Curve')\n",
    "plt.plot([0, 1], [0, 1], 'g--')\n",
    "plt.show()"
   ]
  },
  {
   "cell_type": "markdown",
   "id": "ae95ea8b",
   "metadata": {},
   "source": [
    "When evaluating the results of a diabetic prediction using SVM, a commonly used metrics are precision, recall, and F1-score.\n",
    "\n",
    "The proportion of accurate positive forecasts among all positive predictions is known as precision. In this instance, the accuracy for non-diabetic patients is 0.75, meaning that 75% of the patients who the model predicted would be non-diabetic were in fact non-diabetic. The accuracy for patients with diabetes is 0.67, meaning that 67% of the individuals who the model predicted to have diabetes actually did. \n",
    "\n",
    "Recall is the percentage of correctly predicted positive outcomes among all instances of positive outcomes. In this instance, the recall for non-diabetic patients was 0.88, meaning that the model accurately identified 88% of the real non-diabetic patients. Recall for diabetes patients is 0.44, which indicates that the model successfully identified 44% of the real diabetic patients as such. \n",
    "\n",
    "The harmonic mean of recall and precision is known as the F1-score. It measures the trade-off between precision and recall and is thought to be a more accurate indicator of a model's performance than either precision or recall by itself. The model in this instance has a fair balance between precision and recall for non-diabetic patients, as evidenced by the F1-score of 0.81 for non-diabetic patients. For diabetic patients, the F1-score is 0.53; this indicates that the model performs less well for diabetic patients since it has a lower balance between precision and recall for these patients.\n",
    "\n",
    "In conclusion, the results of this SVM-based diabetic prediction model show that it has good accuracy and recall for patients who do not have diabetes but poorer precision and recall for those who do. The F1-score also shows that diabetic individuals do worse than non-diabetic patients, who perform better overall. As a result, it's crucial to take these findings into account when assessing the model's effectiveness and planning for the future."
   ]
  },
  {
   "cell_type": "code",
   "execution_count": null,
   "id": "851b03d8",
   "metadata": {},
   "outputs": [],
   "source": []
  },
  {
   "cell_type": "code",
   "execution_count": null,
   "id": "177d85cf",
   "metadata": {},
   "outputs": [],
   "source": []
  }
 ],
 "metadata": {
  "kernelspec": {
   "display_name": "Python 3 (ipykernel)",
   "language": "python",
   "name": "python3"
  },
  "language_info": {
   "codemirror_mode": {
    "name": "ipython",
    "version": 3
   },
   "file_extension": ".py",
   "mimetype": "text/x-python",
   "name": "python",
   "nbconvert_exporter": "python",
   "pygments_lexer": "ipython3",
   "version": "3.9.13"
  }
 },
 "nbformat": 4,
 "nbformat_minor": 5
}
